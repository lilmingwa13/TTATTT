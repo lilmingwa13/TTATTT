{
 "cells": [
  {
   "cell_type": "markdown",
   "id": "5e6d945e",
   "metadata": {},
   "source": [
    "# Câu 1: "
   ]
  },
  {
   "cell_type": "code",
   "execution_count": 10,
   "id": "0a3cca5a",
   "metadata": {},
   "outputs": [
    {
     "name": "stdout",
     "output_type": "stream",
     "text": [
      "Các số Q-prime nhỏ hơn hoặc bằng 30 là:  [6, 8, 10, 14, 15, 21, 22, 26, 27]\n"
     ]
    }
   ],
   "source": [
    "def count_divisors(n):\n",
    "    \"\"\"Đếm số lượng ước số nguyên dương của n\"\"\"\n",
    "    count = 0\n",
    "    for i in range(1, int(n**(1/2)) + 1):\n",
    "        if n % i == 0:\n",
    "            # n là số chính phương\n",
    "            if i == n // i:\n",
    "                count += 1\n",
    "            else:\n",
    "                count += 2\n",
    "    return count\n",
    "\n",
    "def is_q_prime(n):\n",
    "    \"\"\"Kiểm tra nếu n là số Q-prime (có đúng 4 ước số nguyên dương)\"\"\"\n",
    "    return count_divisors(n) == 4\n",
    "\n",
    "def find_q_primes(N):\n",
    "    \"\"\"Tìm tất cả các số Q-prime nhỏ hơn hoặc bằng N\"\"\"\n",
    "    q_primes = []\n",
    "    for i in range(1, N + 1):\n",
    "        if is_q_prime(i):\n",
    "            q_primes.append(i)\n",
    "    return q_primes\n",
    "\n",
    "if __name__ == '__main__':\n",
    "    try:\n",
    "        N = int(input(\"Nhập số N: \"))       \n",
    "        if N < 1:\n",
    "            raise ValueError(\"Không hợp lệ!\")\n",
    "        q_primes = find_q_primes(N)\n",
    "        if not q_primes:\n",
    "            print(f\"Không có số Q-prime nhỏ hơn hoặc bằng {N}\")\n",
    "        else:\n",
    "            print(f'Các số Q-prime nhỏ hơn hoặc bằng {N} là: ', q_primes)\n",
    "    except ValueError as e:\n",
    "        print(e)"
   ]
  },
  {
   "cell_type": "markdown",
   "id": "adb38bce",
   "metadata": {},
   "source": [
    "# Câu 2"
   ]
  },
  {
   "cell_type": "code",
   "execution_count": 26,
   "id": "f0f5f835",
   "metadata": {},
   "outputs": [
    {
     "name": "stdout",
     "output_type": "stream",
     "text": [
      "invalid literal for int() with base 10: '4,5'\n"
     ]
    }
   ],
   "source": [
    "       \n",
    "def is_a_prime(n):\n",
    "    if n < 2: \n",
    "        return False\n",
    "    for i in range(2, int(n**(1/2)) + 1):\n",
    "        if n % i == 0: \n",
    "            return False\n",
    "    return True\n",
    "\n",
    "if __name__ == '__main__':\n",
    "    try:\n",
    "        N = int(input('Nhập chữ số N: '))\n",
    "        if not 2 <= N <= 10:\n",
    "            raise ValueError(\"Không hợp lệ!\")\n",
    "        for i in range(10**(N-1), 10**N):\n",
    "            if is_a_prime(i):\n",
    "                print(i)\n",
    "    except ValueError as e:\n",
    "        print(e) "
   ]
  },
  {
   "cell_type": "markdown",
   "id": "e4ee2023",
   "metadata": {},
   "source": [
    "# Câu 3"
   ]
  },
  {
   "cell_type": "code",
   "execution_count": 18,
   "id": "b26fe75f",
   "metadata": {},
   "outputs": [
    {
     "name": "stdout",
     "output_type": "stream",
     "text": [
      "Vậy N + p + s - q - k = 24 + 60 + 8 - 5 - 2 = 85\n"
     ]
    }
   ],
   "source": [
    "def divisors(n):\n",
    "    count = 0\n",
    "    sum = 0\n",
    "    for i in range(1, int(n**0.5) + 1):\n",
    "        if n % i == 0:\n",
    "            if i == n // i:\n",
    "                count += 1\n",
    "                sum += i\n",
    "            else:\n",
    "                count += 2\n",
    "                sum += (i + n // i)\n",
    "    return sum, count\n",
    "\n",
    "def prime_divisors(n):\n",
    "    count = 0\n",
    "    sum = 0\n",
    "    for i in range(2, int(n**(1/2)) + 1):\n",
    "        if n % i == 0:\n",
    "            count += 1\n",
    "            sum += i\n",
    "            while n % i == 0:\n",
    "                n //= i\n",
    "    if n > 1:\n",
    "        count += 1\n",
    "        sum += n\n",
    "    return sum, count\n",
    "    \n",
    "if __name__ == '__main__':\n",
    "    try:\n",
    "        N = int(input('Nhập N: ')) \n",
    "        \n",
    "        if N < 1:\n",
    "            raise ValueError(\"Không hợp lệ!\")\n",
    "        \n",
    "        #q là tổng các ước nguyên tố của N, k là số ước nguyên tố của N'\n",
    "        q, k = prime_divisors(N)\n",
    "        \n",
    "        # p là tổng các ước số của N, s là số ước của N \n",
    "        p, s = divisors(N)\n",
    "        \n",
    "        result = N + p + s - q - k\n",
    "        print(f'Vậy N + p + s - q - k = {N} + {p} + {s} - {q} - {k} =', result)\n",
    "        \n",
    "    except ValueError as e:\n",
    "        print(e)"
   ]
  },
  {
   "cell_type": "markdown",
   "id": "bde5a1a1",
   "metadata": {},
   "source": [
    "# Câu 4"
   ]
  },
  {
   "cell_type": "code",
   "execution_count": 29,
   "id": "b11c89f5",
   "metadata": {},
   "outputs": [
    {
     "name": "stdout",
     "output_type": "stream",
     "text": [
      "Số lượng số nguyên tố trong khoảng [-10,-2] là: 0\n"
     ]
    }
   ],
   "source": [
    "def is_a_prime(n):\n",
    "    if n < 2:\n",
    "        return False\n",
    "    for i in range(2, int(n**(1/2)) + 1):\n",
    "        if n % i == 0:\n",
    "            return False\n",
    "    return True\n",
    "\n",
    "def count_primes(a, b):\n",
    "    count = 0\n",
    "    for i in range(a, b + 1):\n",
    "        if is_a_prime(i):\n",
    "            count += 1\n",
    "    return count\n",
    "\n",
    " \n",
    "if __name__ == '__main__':\n",
    "    try:\n",
    "        A, B = map(int, input('Nhap vào 2 số A và B: ').split())\n",
    "        if A > B :\n",
    "            raise ValueError(\"Không hợp lệ!\")\n",
    "        print(f'Số lượng số nguyên tố trong khoảng [{A},{B}] là:',count_primes(A, B))\n",
    "    except ValueError as e:\n",
    "        print(e) "
   ]
  },
  {
   "cell_type": "markdown",
   "id": "cc852357",
   "metadata": {},
   "source": [
    "# Câu 5"
   ]
  },
  {
   "cell_type": "code",
   "execution_count": 1,
   "id": "0577f276",
   "metadata": {},
   "outputs": [
    {
     "name": "stdout",
     "output_type": "stream",
     "text": [
      "Tổng số lượng số nguyên tố trong khoảng [14,27] là: 59\n"
     ]
    }
   ],
   "source": [
    "def is_a_prime(n):\n",
    "    if n < 2: \n",
    "        return False\n",
    "    for i in range(2, int(n**(1/2)) + 1):\n",
    "        if n % i == 0:\n",
    "            return False\n",
    "    return True\n",
    "\n",
    "def sum_primes(a, b):\n",
    "    if a < 0:\n",
    "        a = 0\n",
    "    if b < 0:\n",
    "        return 0\n",
    "    sum = 0\n",
    "    for i in range(a, b + 1):\n",
    "        if is_a_prime(i):\n",
    "            sum += i\n",
    "    return sum\n",
    "        \n",
    "if __name__ == '__main__':\n",
    "    try:\n",
    "        A, B = map(int, input('Nhập vào 2 số A và B: ').split())\n",
    "        if A > B:\n",
    "            raise ValueError(\"Không hợp lệ!\")\n",
    "        \n",
    "        print(f'Tổng số lượng số nguyên tố trong khoảng [{A},{B}] là:',sum_primes(A, B))\n",
    "    except ValueError as e:\n",
    "        print(e)\n",
    "    "
   ]
  },
  {
   "cell_type": "markdown",
   "id": "f6969025",
   "metadata": {},
   "source": [
    "# Câu 6"
   ]
  },
  {
   "cell_type": "code",
   "execution_count": 86,
   "id": "07306843",
   "metadata": {},
   "outputs": [
    {
     "name": "stdout",
     "output_type": "stream",
     "text": [
      "Các cặp số thân thiết nhỏ hơn 10000 là:\n",
      "(220, 284)\n",
      "(1184, 1210)\n",
      "(2620, 2924)\n",
      "(5020, 5564)\n",
      "(6232, 6368)\n"
     ]
    }
   ],
   "source": [
    "from math import *\n",
    "#Tính tổng các ước của n trừ chính nó\n",
    "def sum_divisors(n):\n",
    "    sum = 1\n",
    "    for i in range(2, isqrt(n) + 1):\n",
    "        if n % i == 0:\n",
    "            if i == n // i:\n",
    "                sum += i\n",
    "            else:\n",
    "                sum += i + n // i\n",
    "    return sum\n",
    "\n",
    "def find_amicable_numbers(n):\n",
    "    amicable_pair = []\n",
    "    for a in range(2, n + 1):\n",
    "        b = sum_divisors(a)\n",
    "        if b > a and b < N:\n",
    "            if sum_divisors(b) == a:\n",
    "                amicable_pair.append((a,b))\n",
    "    return amicable_pair\n",
    "    \n",
    "\n",
    "if __name__ == '__main__':\n",
    "    try:\n",
    "        N = int(input('Nhập vào một số nguyên N: '))\n",
    "        if N < 1:\n",
    "            raise ValueError(\"Không hợp lệ!\")\n",
    "        pairs =  find_amicable_numbers(N)\n",
    "        if not pairs:\n",
    "            print(f\"Không có cặp số thân thiết nào nhỏ hơn {N}\")\n",
    "        else: \n",
    "            print(\"Các cặp số thân thiết nhỏ hơn\", N, \"là:\")\n",
    "            for a, b in pairs:\n",
    "                print(f\"({a}, {b})\")\n",
    "    except ValueError as e:\n",
    "        print(e)"
   ]
  },
  {
   "cell_type": "markdown",
   "id": "8e3d889e",
   "metadata": {},
   "source": [
    "# Câu 7"
   ]
  },
  {
   "cell_type": "code",
   "execution_count": 105,
   "id": "19bea87d",
   "metadata": {},
   "outputs": [
    {
     "name": "stdout",
     "output_type": "stream",
     "text": [
      "Các số eimrps nhỏ hơn 97 là:  [2, 3, 5, 7, 11, 13, 17, 31, 37, 71, 73, 79]\n"
     ]
    }
   ],
   "source": [
    "from math import *\n",
    "\n",
    "def reverse(n):\n",
    "    rev = 0\n",
    "    while n > 0:\n",
    "        rev = rev * 10 + n % 10\n",
    "        n //= 10\n",
    "    return rev\n",
    "\n",
    "def is_a_prime(n):\n",
    "    if n < 1:\n",
    "        return False\n",
    "    for i in range(2, isqrt(n) + 1):\n",
    "        if n % i == 0:\n",
    "            return False\n",
    "    return True\n",
    "\n",
    "def is_a_emirp(n):\n",
    "    if is_a_prime(n) and is_a_prime(reverse(n)):\n",
    "        return True\n",
    "    return False\n",
    "\n",
    "def emirps(n):\n",
    "    emirps = []\n",
    "    for i in range(2, n):\n",
    "        if is_a_emirp(i):\n",
    "            emirps.append(i)\n",
    "    return emirps\n",
    "    \n",
    "if __name__ == '__main__':\n",
    "    try:\n",
    "        N = int(input('Nhập N: '))\n",
    "        #if N < 2:\n",
    "            #raise ValueError(\"Không hợp lệ!\")\n",
    "        eimrps = emirps(N)\n",
    "        if not eimrps:\n",
    "            print(f\"Không có số eimrps nào nhỏ hơn {N}\")\n",
    "        else:  \n",
    "            print(f\"Các số eimrps nhỏ hơn {N} là: \", eimrps)\n",
    "    except ValueError as e:\n",
    "        print(e)"
   ]
  },
  {
   "cell_type": "markdown",
   "id": "4c8ac816",
   "metadata": {},
   "source": [
    "# Câu 8"
   ]
  },
  {
   "cell_type": "code",
   "execution_count": 13,
   "id": "c9287059",
   "metadata": {},
   "outputs": [
    {
     "name": "stdout",
     "output_type": "stream",
     "text": [
      "Các số T-prime nhỏ hơn hoặc bằng 1000 là:  [4, 9, 25, 49, 121, 169, 289, 361, 529, 841, 961]\n"
     ]
    }
   ],
   "source": [
    "def count_divisors(n):\n",
    "    \"\"\"Đếm số lượng ước số nguyên dương của n\"\"\"\n",
    "    count = 0\n",
    "    for i in range(1, int(n**0.5) + 1):\n",
    "        if n % i == 0:\n",
    "            if i == n // i:\n",
    "                count += 1\n",
    "            else:\n",
    "                count += 2\n",
    "    return count\n",
    "\n",
    "def is_t_prime(n):\n",
    "    \"\"\"Kiểm tra nếu n là số T-prime (có đúng 3 ước số nguyên dương)\"\"\"\n",
    "    return count_divisors(n) == 3\n",
    "\n",
    "def find_t_primes(N):\n",
    "    \"\"\"Tìm tất cả các số T-prime nhỏ hơn hoặc bằng N\"\"\"\n",
    "    t_primes = []\n",
    "    for i in range(1, N + 1):\n",
    "        if is_t_prime(i):\n",
    "            t_primes.append(i)\n",
    "    return t_primes\n",
    "\n",
    "if __name__ == '__main__':\n",
    "    try:\n",
    "        N = int(input(\"Nhập số N: \"))\n",
    "        #if:\n",
    "            #raise ValueError(\"Không hợp lệ!\")\n",
    "        t_primes = find_t_primes(N)\n",
    "        if not t_primes:\n",
    "            print(f\"Không có số T-prime  nào nhỏ hơn {N}\")\n",
    "        else:  \n",
    "            print(f'Các số T-prime nhỏ hơn hoặc bằng {N} là: ', t_primes) \n",
    "    except ValueError as e:\n",
    "        print(e)"
   ]
  },
  {
   "cell_type": "markdown",
   "id": "e649a1e7",
   "metadata": {},
   "source": [
    "# Câu 9"
   ]
  },
  {
   "cell_type": "code",
   "execution_count": 130,
   "id": "85597656",
   "metadata": {},
   "outputs": [
    {
     "name": "stdout",
     "output_type": "stream",
     "text": [
      "Số số nguyên tố nhỏ hơn hoặc bằng 3 là: 2\n"
     ]
    }
   ],
   "source": [
    "def is_a_prime(n):\n",
    "    if n < 2:\n",
    "        return False\n",
    "    for i in range(2, int(n**(1/2)) + 1):\n",
    "        if n % i == 0:\n",
    "            return False\n",
    "    return True\n",
    "\n",
    "def count_primes(n):\n",
    "    count = 0\n",
    "    for i in range(2, n + 1):\n",
    "        if is_a_prime(i):\n",
    "            count += 1\n",
    "    return count\n",
    "\n",
    "if __name__ == '__main__':\n",
    "    try:\n",
    "        N = int(input('Nhập một số nguyên N: '))\n",
    "        if N < 2:\n",
    "            raise ValueError(\"Không hợp lệ!\")\n",
    "        print(f'Số số nguyên tố nhỏ hơn hoặc bằng {N} là:',count_primes(N))\n",
    "    except ValueError as e:\n",
    "        print(e)"
   ]
  },
  {
   "cell_type": "markdown",
   "id": "3b9e3b59",
   "metadata": {},
   "source": [
    "# Câu 10"
   ]
  },
  {
   "cell_type": "code",
   "execution_count": 184,
   "id": "6b77f035",
   "metadata": {},
   "outputs": [
    {
     "name": "stdout",
     "output_type": "stream",
     "text": [
      "Số ước của 5 là: 2\n",
      "Số ước nguyên tố của 5 là: 1\n"
     ]
    }
   ],
   "source": [
    "def count_divisors(n):\n",
    "    count = 0\n",
    "    for i in range(1,  int(n**(1/2)) + 1):\n",
    "        if n % i == 0:\n",
    "            if i == n // i:\n",
    "                count += 1\n",
    "            else:\n",
    "                count += 2\n",
    "    return count\n",
    "\n",
    "def count_prime_divisors(n):\n",
    "    count = 0\n",
    "    for i in range(2, int(n**(1/2)) + 1):\n",
    "        if n % i == 0:\n",
    "            count += 1\n",
    "            while n % i == 0:\n",
    "                n //= i\n",
    "    if n != 1:\n",
    "        count += 1\n",
    "    return count\n",
    "\n",
    "if __name__ == '__main__':\n",
    "    try:\n",
    "        N = int(input('Nhập một số nguyên N: '))\n",
    "        if N < 1:\n",
    "            raise ValueError(\"Không hợp lệ\")\n",
    "        print(f'Số ước của {N} là:', count_divisors(N))\n",
    "        print(f'Số ước nguyên tố của {N} là:', count_prime_divisors(N))  \n",
    "    except ValueError as e:\n",
    "        print(e)"
   ]
  },
  {
   "cell_type": "markdown",
   "id": "4ffa84ee",
   "metadata": {},
   "source": [
    "# Câu 11"
   ]
  },
  {
   "cell_type": "code",
   "execution_count": 182,
   "id": "5f5b07e8",
   "metadata": {},
   "outputs": [
    {
     "name": "stdout",
     "output_type": "stream",
     "text": [
      "Tổng của các số nguyên tố nhỏ hơn hoặc bằng -5 là:  = 0\n"
     ]
    }
   ],
   "source": [
    "from math import *\n",
    "def is_a_prime(n):\n",
    "    if n < 2:\n",
    "        return False\n",
    "    for i in range(2, isqrt(n) + 1):\n",
    "        if n % i == 0:\n",
    "            return False\n",
    "    return True\n",
    "\n",
    "def sum_primes(n):\n",
    "    sum = 0\n",
    "    primes = []\n",
    "    for i in range(2, n + 1):\n",
    "        if is_a_prime(i):\n",
    "            sum += i\n",
    "            primes.append(i)\n",
    "    return primes, sum\n",
    "    \n",
    "if __name__ == '__main__':\n",
    "    try:\n",
    "        N = int(input('Nhập một số nguyên N: '))\n",
    "        #if N < 2:\n",
    "            #raise ValueError(\"Không hợp lệ!\")\n",
    "        primes, sum_primes = sum_primes(N)\n",
    "        primes = ' + '.join(map(str, primes))\n",
    "        print(f'Tổng của các số nguyên tố nhỏ hơn hoặc bằng {N} là: {primes} =', sum_primes)\n",
    "    except ValueError as e:\n",
    "        print(e)\n",
    "        "
   ]
  },
  {
   "cell_type": "markdown",
   "id": "effde1a9",
   "metadata": {},
   "source": [
    "# Câu 12"
   ]
  },
  {
   "cell_type": "code",
   "execution_count": 188,
   "id": "f5e9584d",
   "metadata": {},
   "outputs": [
    {
     "name": "stdout",
     "output_type": "stream",
     "text": [
      "Bốn số nguyên tố liên tiếp là: [2, 3, 5, 7]\n",
      "Tổng của chúng là: 17\n"
     ]
    }
   ],
   "source": [
    "# Có mỗi một dãy thôi ?\n",
    "def is_a_prime(n):\n",
    "    if n < 2: \n",
    "        return False\n",
    "    for i in range(2, int(n**(1/2)) + 1):\n",
    "        if n % i == 0:\n",
    "            return False\n",
    "    return True\n",
    "\n",
    "def find_all_consecutive_primes(N):\n",
    "    primes = []\n",
    "    \n",
    "    # Tìm các số nguyên tố nhỏ hơn hoặc bằng N\n",
    "    for i in range(2, N + 1):\n",
    "        if is_a_prime(i):\n",
    "            primes.append(i)\n",
    "    \n",
    "    # Tìm tất cả bốn số nguyên tố liên tiếp có tổng là số nguyên tố và nhỏ hơn hoặc bằng N\n",
    "    results = []\n",
    "    for i in range(len(primes) - 3):\n",
    "        consecutive_primes = primes[i:i + 4]\n",
    "        total = sum(consecutive_primes)\n",
    "        if total <= N and is_a_prime(total):\n",
    "            results.append((consecutive_primes, total))\n",
    "    \n",
    "    return results\n",
    "\n",
    "if __name__ == '__main__':\n",
    "    try:\n",
    "        N = int(input(\"Nhập vào số N: \"))\n",
    "        #if:\n",
    "            #raise ValueError(\"Không hợp lệ!\")\n",
    "        results = find_all_consecutive_primes(N)\n",
    "        if results:\n",
    "            for consecutive_primes, prime_sum in results:\n",
    "                print(f\"Bốn số nguyên tố liên tiếp là: {consecutive_primes}\")\n",
    "                print(f\"Tổng của chúng là: {prime_sum}\")\n",
    "        else:\n",
    "            print(f\"Không tìm thấy bốn số nguyên tố liên tiếp nhỏ hơn {N} thỏa mãn điều kiện.\")\n",
    "    except ValueError as e:\n",
    "        print(e)"
   ]
  },
  {
   "cell_type": "markdown",
   "id": "fd143c61",
   "metadata": {},
   "source": [
    "# Câu 13"
   ]
  },
  {
   "cell_type": "code",
   "execution_count": 196,
   "id": "1dc3f144",
   "metadata": {},
   "outputs": [
    {
     "name": "stdout",
     "output_type": "stream",
     "text": [
      "Số lượng các cặp số nguyên tố thỏa mãn điều kiện: 0\n"
     ]
    }
   ],
   "source": [
    "def is_prime(n):\n",
    "    if n < 2:\n",
    "        return False\n",
    "    for i in range(2, int(n**(1/2)) + 1):\n",
    "        if n % i == 0:\n",
    "            return False\n",
    "    return True\n",
    "\n",
    "def find_prime_pairs(N):\n",
    "    primes = []\n",
    "    # Tìm tất cả các số nguyên tố nhỏ hơn hoặc bằng N\n",
    "    for i in range(2, N + 1):\n",
    "        if is_prime(i):\n",
    "            primes.append(i)\n",
    "    \n",
    "    # Tìm các cặp số nguyên tố thỏa mãn điều kiện\n",
    "    results = []\n",
    "    for i in range(len(primes)):\n",
    "        for j in range(i + 1, len(primes)):\n",
    "            p1 = primes[i]\n",
    "            p2 = primes[j]\n",
    "            total = p1 + p2\n",
    "            diff = abs(p1 - p2)\n",
    "            if is_prime(total) and is_prime(diff):\n",
    "                results.append((p1, p2))\n",
    "    \n",
    "    return results\n",
    "\n",
    "if __name__ == '__main__':\n",
    "    try:\n",
    "        N = int(input(\"Nhập vào số N: \"))\n",
    "        #if:\n",
    "            #raise ValueError(\"Không hợp lệ!\")\n",
    "        results = find_prime_pairs(N)\n",
    "        print(f\"Số lượng các cặp số nguyên tố thỏa mãn điều kiện: {len(results)}\")\n",
    "        for p1, p2 in results:\n",
    "            print(f\"Hai số nguyên tố là: {p1} và {p2} (Tổng: {p1 + p2}, Hiệu: {abs(p1 - p2)})\")\n",
    "    except ValueError as e:\n",
    "        print(e)\n",
    "    "
   ]
  },
  {
   "cell_type": "markdown",
   "id": "cb017fbe",
   "metadata": {},
   "source": [
    "# Câu 14"
   ]
  },
  {
   "cell_type": "code",
   "execution_count": 1,
   "id": "6920e2f3",
   "metadata": {},
   "outputs": [
    {
     "name": "stdout",
     "output_type": "stream",
     "text": [
      "521\n"
     ]
    }
   ],
   "source": [
    "from math import *\n",
    "def is_prime(n):\n",
    "    if n < 2:\n",
    "        return False\n",
    "    for i in range(2, isqrt(n) + 1):\n",
    "        if n % i == 0:\n",
    "            return False\n",
    "    return True\n",
    "\n",
    "def reverse(n):\n",
    "  rev = 0\n",
    "  while (n > 0):\n",
    "    rev = (10 * rev + n % 10)\n",
    "    n //= 10\n",
    "  return rev\n",
    "\n",
    "if __name__ == '__main__':\n",
    "  for i in range(100, 1000):\n",
    "    if is_prime(i) and int(reverse(i)**(1/3))**3 == reverse(i):\n",
    "            print(i)"
   ]
  },
  {
   "cell_type": "markdown",
   "id": "4174b293",
   "metadata": {},
   "source": [
    "# Câu 15"
   ]
  },
  {
   "cell_type": "code",
   "execution_count": 211,
   "id": "da96be0f",
   "metadata": {},
   "outputs": [
    {
     "name": "stdout",
     "output_type": "stream",
     "text": [
      "Các cặp số nguyên tố sinh đôi nhỏ hơn hoặc bằng 100 là:\n",
      "(3, 5)\n",
      "(5, 7)\n",
      "(11, 13)\n",
      "(17, 19)\n",
      "(29, 31)\n",
      "(41, 43)\n",
      "(59, 61)\n",
      "(71, 73)\n"
     ]
    }
   ],
   "source": [
    "def is_prime(n):\n",
    "    if n <= 1:\n",
    "        return False\n",
    "    for i in range(2, int(n ** 0.5) + 1):\n",
    "        if n % i == 0:\n",
    "            return False\n",
    "    return True\n",
    "\n",
    "def find_twin_primes(N):\n",
    "    twin_primes = []\n",
    "    prev_prime = None\n",
    "    for num in range(2, N + 1):\n",
    "        if is_prime(num):\n",
    "            if prev_prime is not None and num - prev_prime == 2:\n",
    "                twin_primes.append((prev_prime, num))\n",
    "            prev_prime = num\n",
    "    return twin_primes\n",
    "\n",
    "if __name__ == '__main__':\n",
    "    try:\n",
    "        N = int(input(\"Nhập vào số N: \"))\n",
    "        #if:\n",
    "            #raise ValueError(\"Không hợp lệ!\")\n",
    "        twin_primes = find_twin_primes(N)\n",
    "        if twin_primes:\n",
    "            print(\"Các cặp số nguyên tố sinh đôi nhỏ hơn hoặc bằng\", N, \"là:\")\n",
    "            for pair in twin_primes:\n",
    "                print(pair)\n",
    "        else:\n",
    "            print(\"Không tìm thấy cặp số nguyên tố sinh đôi nhỏ hơn hoặc bằng\", N)\n",
    "    except ValueError as e:\n",
    "        print(e)   "
   ]
  },
  {
   "cell_type": "markdown",
   "id": "ea30c032",
   "metadata": {},
   "source": [
    "# Câu 16 (checking)"
   ]
  },
  {
   "cell_type": "code",
   "execution_count": 213,
   "id": "d9f71501",
   "metadata": {},
   "outputs": [
    {
     "name": "stdout",
     "output_type": "stream",
     "text": [
      "Mảng ngẫu nhiên là:  [17, 59, 78, 63, 42, 37, 26, 7, 63, 43]\n",
      "Các số nguyên tố trong mảng: [17, 59, 37, 7, 43]\n"
     ]
    }
   ],
   "source": [
    "from math import *\n",
    "from random import *\n",
    "def is_prime(num):\n",
    "    if num <= 1:\n",
    "        return False\n",
    "    for i in range(2, isqrt(num) + 1):\n",
    "        if num % i == 0:\n",
    "            return False\n",
    "    return True\n",
    "\n",
    "def generate_random_array(size, lower_bound = 1, upper_bound = 100):\n",
    "    return [randint(lower_bound, upper_bound) for i in range(size)]\n",
    "    \n",
    "def find_primes_in_array(array):\n",
    "    return [i for i in array if is_prime(i)]\n",
    "\n",
    "if __name__ == '__main__':\n",
    "    N = int(input(\"Nhập một số nguyên N: \"))\n",
    "    array = generate_random_array(N)\n",
    "    print(\"Mảng ngẫu nhiên là: \",array)\n",
    "    prime_array = find_primes_in_array(array)\n",
    "    print(\"Các số nguyên tố trong mảng:\", prime_array)\n",
    "  "
   ]
  },
  {
   "cell_type": "markdown",
   "id": "609c7302",
   "metadata": {},
   "source": [
    "## Câu 17:"
   ]
  },
  {
   "cell_type": "code",
   "execution_count": 236,
   "id": "5c4b0c0b",
   "metadata": {},
   "outputs": [
    {
     "name": "stdout",
     "output_type": "stream",
     "text": [
      "N = 123\n",
      "A, B, C = 2, -7, 3\n",
      "1 <= x < N\n",
      "Số nguyên dương x nhỏ nhất nhỏ hơn 123 sao cho giá trị của biểu thức A*x^2 + B*x + C là số nguyên tố là: 4\n"
     ]
    }
   ],
   "source": [
    "def is_prime(n):\n",
    "    if n <= 1:\n",
    "        return False\n",
    "    for i in range(2, int(n**0.5) + 1):\n",
    "        if n % i == 0:\n",
    "            return False\n",
    "    return True\n",
    "\n",
    "def find_min_x(N, A, B, C):\n",
    "    for x in range(1, N):\n",
    "        expression_value = A * (x**2) + B * x + C\n",
    "        if is_prime(expression_value):\n",
    "            return x\n",
    "    return None\n",
    "\n",
    "if __name__ == '__main__':\n",
    "    try:\n",
    "        N, A, B, C = map(int, input(\"Nhập lần lượt các số số nguyên N, A, B, C:\").split())\n",
    "        if N < 2:\n",
    "            raise ValueError(\"Không hợp lệ!\")\n",
    "        \n",
    "        result = find_min_x(N, A, B, C)\n",
    "        print(f\"N = {N}\")\n",
    "        print(f\"A, B, C = {A}, {B}, {C}\")\n",
    "        print(\"1 <= x < N\")\n",
    "        if not result:\n",
    "            print(f\"Không tìm thấy số nguyên dương x nhỏ hơn {N} nào thỏa mãn điều kiện.\")   \n",
    "        else:\n",
    "            print(f\"Số nguyên dương x nhỏ nhất nhỏ hơn {N} sao cho giá trị của biểu thức A*x^2 + B*x + C là số nguyên tố là: {result}\")\n",
    "    except ValueError as e:\n",
    "        print(e)"
   ]
  },
  {
   "cell_type": "markdown",
   "id": "130d522c",
   "metadata": {},
   "source": [
    "# Câu 18"
   ]
  },
  {
   "cell_type": "code",
   "execution_count": 241,
   "id": "a776489e",
   "metadata": {},
   "outputs": [
    {
     "name": "stdout",
     "output_type": "stream",
     "text": [
      "(e, c) = (0, 657)\n",
      "C = [0, 2, 145]\n"
     ]
    }
   ],
   "source": [
    "# Trường hữu hạn với trên p thì khác gì nhau?\n",
    "from math import *\n",
    "\n",
    "def number_to_array(a, p, w):\n",
    "    t = cal_t(p, w)\n",
    "    array = []\n",
    "    for _ in range(t):\n",
    "        array.append(a % 2**w)\n",
    "        a //= 2**w\n",
    "    return array[::-1]\n",
    "\n",
    "def cal_t(p, w):\n",
    "    m = ceil(log(p, 2))\n",
    "    t = ceil(m / w)\n",
    "    return t\n",
    "\n",
    "def array_to_number(a, w):\n",
    "    t = len(a)\n",
    "    number = 0\n",
    "    for i in range(t):\n",
    "        number += (2**((t-1-i)*w) * a[i])\n",
    "    return int(number)\n",
    "\n",
    "def sum_of_two_numbers(a, b, p, w):\n",
    "    result = []\n",
    "    a = number_to_array(a, p, w)\n",
    "    b = number_to_array(b, p, w)\n",
    "    t = cal_t(p, w)\n",
    "    e = 0\n",
    "    for i in range(t - 1, -1, -1):\n",
    "        sum = a[i] + b[i] + e\n",
    "        result.append(sum % (2**w))\n",
    "        e = 1 if sum >= (2**w) else 0\n",
    "    return e, result[::-1]\n",
    "\n",
    "\n",
    "if __name__ == '__main__':\n",
    "    try: \n",
    "        a, b, p, w = map(int, input(\"Nhập a, b, p, w: \").split())\n",
    "        if  a < 0 or b < 0 or w % 8 != 0:\n",
    "            raise ValueError(\"Không hợp lệ!\")\n",
    "        e, C = sum_of_two_numbers(a, b, p, w)\n",
    "        c = array_to_number(C, w)\n",
    "        print(f\"(e, c) = ({e}, {c})\")\n",
    "        print(f\"C = {C}\")\n",
    "    except ValueError as v:\n",
    "        print(v)\n",
    "    "
   ]
  },
  {
   "cell_type": "markdown",
   "id": "09df5da8",
   "metadata": {},
   "source": [
    "# Câu 19"
   ]
  },
  {
   "cell_type": "code",
   "execution_count": 256,
   "id": "a6f34c84",
   "metadata": {},
   "outputs": [
    {
     "name": "stdout",
     "output_type": "stream",
     "text": [
      "Các số nguyên dương nằm trong khoảng [40,100] mà 1*x*x + 2*x + 3 là một số nguyên tố là:\n",
      " [44, 56, 80, 98]\n"
     ]
    }
   ],
   "source": [
    "def is_prime(N):\n",
    "    if N < 2: \n",
    "        return False\n",
    "    for i in range(2, int(N**0.5) + 1):\n",
    "        if N % i == 0:\n",
    "            return False\n",
    "    return True\n",
    "\n",
    "def find_prime_expressions(A, B, C, m, l):\n",
    "    primes = []\n",
    "    for x in range(m, l + 1):\n",
    "        expression_value = 𝐴 * x * x + 𝐵 * x + 𝐶\n",
    "        if is_prime(expression_value) and x > 0:\n",
    "                   primes.append(x)\n",
    "    return primes\n",
    "\n",
    "if __name__ == '__main__':\n",
    "    try:\n",
    "        A, B, C, m, l = map(int, input(\"Nhập lần lượt A, B, C, m, l: \").split())\n",
    "        if not m < l:\n",
    "            raise ValueError(\"Không hợp lệ!\")\n",
    "        primes = find_prime_expressions(A, B, C, m, l)\n",
    "        if not primes:\n",
    "            print(\"Không có số thỏa mãn\")\n",
    "        else:\n",
    "            print(f'Các số nguyên dương nằm trong khoảng [{m},{l}] mà {A}*x*x + {B}*x + {C} là một số nguyên tố là:\\n', primes)\n",
    "    except ValueError as e:\n",
    "        print(e)\n",
    " \n",
    "    "
   ]
  },
  {
   "cell_type": "markdown",
   "id": "fd094a94",
   "metadata": {},
   "source": [
    "# Câu 20"
   ]
  },
  {
   "cell_type": "code",
   "execution_count": 288,
   "id": "57257ef7",
   "metadata": {},
   "outputs": [
    {
     "name": "stdout",
     "output_type": "stream",
     "text": [
      "Các cặp số thỏa mãn:  [(23, 23), (23, 46), (23, 69), (23, 92), (46, 69), (69, 92)]\n"
     ]
    }
   ],
   "source": [
    "def GCD(a, b):\n",
    "    while(b > 0):\n",
    "        c = a % b\n",
    "        a = b\n",
    "        b = c     \n",
    "    return a\n",
    "\n",
    "def find_pairs(M, N, D):\n",
    "    pairs = []\n",
    "    for A in range(M + 1, N):\n",
    "        for B in range(A, N):\n",
    "            if GCD(A, B) == D:\n",
    "                pairs.append((A,B))\n",
    "    return pairs\n",
    "\n",
    "\n",
    "if __name__ == '__main__':\n",
    "    try:\n",
    "        M, N, D = map(int, input(\"Nhập lần lượt M,N,D (0< M,N,D < 1000):\").split())\n",
    "        if not 0 < M < N < 1000 or not 0 < D < 1000:\n",
    "            raise ValueError(\"Không hợp lệ!\")\n",
    "        pairs =  find_pairs(M, N, D)\n",
    "        if not pairs:\n",
    "            print(\"Không có cặp số (A,B) thỏa mãn\")\n",
    "        else:\n",
    "            print(\"Các cặp số thỏa mãn: \", pairs)\n",
    "    except ValueError as e:\n",
    "        print(e)"
   ]
  },
  {
   "cell_type": "markdown",
   "id": "23f709ba",
   "metadata": {},
   "source": [
    "# Câu 21"
   ]
  },
  {
   "cell_type": "code",
   "execution_count": 297,
   "id": "fa1a0b3f",
   "metadata": {},
   "outputs": [
    {
     "name": "stdout",
     "output_type": "stream",
     "text": [
      "Số lượng các siêu số nguyên tố trong khoảng [-50,100] cho trước nhập từ bàn phím: 28\n"
     ]
    }
   ],
   "source": [
    "#Cau 21\n",
    "from math import *\n",
    "def is_prime(n):\n",
    "    if n < 2: \n",
    "        return False\n",
    "    for i in range(2, isqrt(n) + 1):\n",
    "        if n % i == 0:\n",
    "            return False\n",
    "    return True\n",
    "\n",
    "def is_supper_prime(n):\n",
    "    count = 0\n",
    "    for i in range(2, n):\n",
    "        if is_prime(i):\n",
    "            count += 1\n",
    "    if is_prime(count):\n",
    "        return True\n",
    "    return False\n",
    "\n",
    "def count_supper_primes(A, B):\n",
    "    count = 0\n",
    "    for i in range(A, B + 1):\n",
    "        if is_supper_prime(i):\n",
    "            count += 1\n",
    "    return count\n",
    "\n",
    "if __name__ == \"__main__\":\n",
    "    A, B = map(int, input(\"Nhập vào lần lượt 2 số A, B: \").split())\n",
    "    count_supper_primes = count_supper_primes(A, B)\n",
    "    print(f'Số lượng các siêu số nguyên tố trong khoảng [{A},{B}] cho trước nhập từ bàn phím:', count_supper_primes)"
   ]
  },
  {
   "cell_type": "markdown",
   "id": "2af4b54c",
   "metadata": {},
   "source": [
    "# Câu 22"
   ]
  },
  {
   "cell_type": "code",
   "execution_count": 4,
   "id": "c6049017",
   "metadata": {},
   "outputs": [
    {
     "name": "stdout",
     "output_type": "stream",
     "text": [
      "\n",
      "KQ: Các giá trị của cấp F(i) * F(j) là:\n",
      "sum = 31\n"
     ]
    }
   ],
   "source": [
    "def is_prime(n):\n",
    "    if n < 2:\n",
    "        return False\n",
    "    for i in range(2, int(n**0.5) + 1):\n",
    "        if n % i == 0:\n",
    "            return False\n",
    "    return True\n",
    "\n",
    "if __name__ == '__main__':\n",
    "    try:\n",
    "        L, R = map(int, input(\"Nhập L, R: \").split())\n",
    "        if not 0 < L < R < 1000:\n",
    "            raise ValueError(\"Không hợp lệ!\")\n",
    "        print(\"\\nKQ: Các giá trị của cấp F(i) * F(j) là:\")\n",
    "        sum = 0 \n",
    "        for i in range(L, R):\n",
    "            fi = i if is_prime(i) else 0\n",
    "            for j in range(i + 1, R + 1):\n",
    "                fj = j if is_prime(j) else 0\n",
    "                sum += fi * fj\n",
    "        print(f\"sum = {sum}\")\n",
    "    except ValueError as e:\n",
    "        print(e)"
   ]
  },
  {
   "cell_type": "markdown",
   "id": "19389397",
   "metadata": {},
   "source": [
    "# Câu 23"
   ]
  },
  {
   "cell_type": "code",
   "execution_count": 307,
   "id": "f1705cdd",
   "metadata": {},
   "outputs": [
    {
     "name": "stdout",
     "output_type": "stream",
     "text": [
      "Không hợp lệ!\n"
     ]
    }
   ],
   "source": [
    "def is_prime(n):\n",
    "    if n < 2:\n",
    "        return False\n",
    "    for i in range(2, int(n**0.5) + 1):\n",
    "        if n % i == 0:\n",
    "            return False\n",
    "    return True\n",
    "\n",
    "def sum_of_primes(A, B):\n",
    "    prime_sum = 0\n",
    "    for i in range(A, B + 1):\n",
    "        if is_prime(i):\n",
    "            prime_sum += i\n",
    "    return prime_sum\n",
    "\n",
    "if __name__ == '__main__':\n",
    "    try:\n",
    "        A, B = map(int, input(\"Nhập vào lần lượt 2 số A, B: \").split())\n",
    "        if A > B:\n",
    "            raise ValueError(\"Không hợp lệ!\")\n",
    "        prime_sum = sum_of_primes(A, B)\n",
    "        if is_prime(prime_sum):\n",
    "            print(\"YES\")\n",
    "        else:\n",
    "            print(\"NO\")\n",
    "    except ValueError as e:\n",
    "        print(e)\n",
    "\n"
   ]
  },
  {
   "cell_type": "markdown",
   "id": "fd9dc3ab",
   "metadata": {},
   "source": [
    "# Câu 24"
   ]
  },
  {
   "cell_type": "code",
   "execution_count": 309,
   "id": "43558077",
   "metadata": {},
   "outputs": [
    {
     "name": "stdout",
     "output_type": "stream",
     "text": [
      "Tất cả số thỏa mãn trong [18, 30]: [29]\n",
      "Số lượng: 1\n"
     ]
    }
   ],
   "source": [
    "def is_prime(n):\n",
    "    if n < 2:\n",
    "        return False\n",
    "    for i in range(2, int(n**0.5) + 1):\n",
    "        if n % i == 0:\n",
    "            return False\n",
    "    return True\n",
    "\n",
    "def is_sum_of_squares(n):\n",
    "    for x in range(1, int(n**0.5) + 1):\n",
    "        y_squared = n - x**2\n",
    "        if int(y_squared**0.5)**2 == y_squared:\n",
    "            return True\n",
    "    return False\n",
    "\n",
    "def xuly(a, b):\n",
    "    count = 0\n",
    "    thoaman = []\n",
    "    for i in range(a, b + 1):\n",
    "        if is_prime(i) and is_sum_of_squares(i):\n",
    "            thoaman.append(i)\n",
    "            count += 1\n",
    "    return thoaman, count\n",
    "\n",
    "def analyse(thoaman):\n",
    "    for i in thoaman:          \n",
    "        for j in range(1, int(i**0.5 + 1)):\n",
    "            y_squared = i - j**2\n",
    "            if int(y_squared**0.5)**2 == y_squared:\n",
    "                print(f\"{i} = [{j}, {int(y_squared**0.5)}]\")\n",
    "                break;\n",
    "                        \n",
    "                \n",
    "if __name__ == \"__main__\":\n",
    "    try: \n",
    "        a, b = map(int, input(\"Nhập vào lần lượt 2 số A, B: \").split())\n",
    "        if a >= b:\n",
    "            raise ValueError(\"Không hợp lệ\")\n",
    "        thoaman, count = xuly(a, b)\n",
    "        if not thoaman:\n",
    "            print(\"Không có số thỏa mãn\")\n",
    "        else:\n",
    "            print(f\"Tất cả số thỏa mãn trong [{a}, {b}]: {thoaman}\")\n",
    "            print(f\"Số lượng: {count}\")\n",
    "            #analyse(thoaman)\n",
    "    except ValueError as e:\n",
    "        print(e)"
   ]
  },
  {
   "cell_type": "markdown",
   "id": "df40d532",
   "metadata": {},
   "source": [
    "# Câu 25 (checking)"
   ]
  },
  {
   "cell_type": "code",
   "execution_count": 10,
   "id": "34db33f3",
   "metadata": {},
   "outputs": [
    {
     "name": "stdout",
     "output_type": "stream",
     "text": [
      "100 5\n"
     ]
    },
    {
     "ename": "TypeError",
     "evalue": "'int' object is not callable",
     "output_type": "error",
     "traceback": [
      "\u001b[1;31m---------------------------------------------------------------------------\u001b[0m",
      "\u001b[1;31mTypeError\u001b[0m                                 Traceback (most recent call last)",
      "Cell \u001b[1;32mIn[10], line 26\u001b[0m\n\u001b[0;32m     24\u001b[0m \u001b[38;5;28;01mif\u001b[39;00m \u001b[38;5;129;01mnot\u001b[39;00m \u001b[38;5;241m1\u001b[39m \u001b[38;5;241m<\u001b[39m\u001b[38;5;241m=\u001b[39m N \u001b[38;5;241m<\u001b[39m\u001b[38;5;241m=\u001b[39m \u001b[38;5;241m10000\u001b[39m \u001b[38;5;129;01mor\u001b[39;00m \u001b[38;5;129;01mnot\u001b[39;00m \u001b[38;5;241m2\u001b[39m \u001b[38;5;241m<\u001b[39m\u001b[38;5;241m=\u001b[39m M \u001b[38;5;241m<\u001b[39m\u001b[38;5;241m=\u001b[39m \u001b[38;5;241m100\u001b[39m:\n\u001b[0;32m     25\u001b[0m     \u001b[38;5;28;01mraise\u001b[39;00m \u001b[38;5;167;01mValueError\u001b[39;00m(\u001b[38;5;124m\"\u001b[39m\u001b[38;5;124mKhông hợp lệ!\u001b[39m\u001b[38;5;124m\"\u001b[39m)\n\u001b[1;32m---> 26\u001b[0m is_valid, prime_sum \u001b[38;5;241m=\u001b[39m \u001b[43mfind_prime_sum\u001b[49m\u001b[43m(\u001b[49m\u001b[43mN\u001b[49m\u001b[43m,\u001b[49m\u001b[43m \u001b[49m\u001b[43mM\u001b[49m\u001b[43m)\u001b[49m\n\u001b[0;32m     27\u001b[0m \u001b[38;5;28;01mif\u001b[39;00m is_valid:\n\u001b[0;32m     28\u001b[0m     \u001b[38;5;28mprint\u001b[39m(\u001b[38;5;124mf\u001b[39m\u001b[38;5;124m\"\u001b[39m\u001b[38;5;132;01m{\u001b[39;00mN\u001b[38;5;132;01m}\u001b[39;00m\u001b[38;5;124m = \u001b[39m\u001b[38;5;132;01m{\u001b[39;00m\u001b[38;5;124m'\u001b[39m\u001b[38;5;124m + \u001b[39m\u001b[38;5;124m'\u001b[39m\u001b[38;5;241m.\u001b[39mjoin(\u001b[38;5;28mmap\u001b[39m(\u001b[38;5;28mstr\u001b[39m,\u001b[38;5;250m \u001b[39mprime_sum))\u001b[38;5;132;01m}\u001b[39;00m\u001b[38;5;124m\"\u001b[39m)\n",
      "Cell \u001b[1;32mIn[10], line 14\u001b[0m, in \u001b[0;36mfind_prime_sum\u001b[1;34m(N, M)\u001b[0m\n\u001b[0;32m     12\u001b[0m primes \u001b[38;5;241m=\u001b[39m [p \u001b[38;5;28;01mfor\u001b[39;00m p \u001b[38;5;129;01min\u001b[39;00m \u001b[38;5;28mrange\u001b[39m(\u001b[38;5;241m2\u001b[39m, \u001b[38;5;241m10000\u001b[39m) \u001b[38;5;28;01mif\u001b[39;00m is_prime(p)]\n\u001b[0;32m     13\u001b[0m \u001b[38;5;28;01mfor\u001b[39;00m combo \u001b[38;5;129;01min\u001b[39;00m combinations(primes, M):\n\u001b[1;32m---> 14\u001b[0m     \u001b[38;5;28;01mif\u001b[39;00m \u001b[38;5;28;43msum\u001b[39;49m\u001b[43m(\u001b[49m\u001b[43mcombo\u001b[49m\u001b[43m)\u001b[49m \u001b[38;5;241m==\u001b[39m N:\n\u001b[0;32m     15\u001b[0m         \u001b[38;5;28;01mreturn\u001b[39;00m \u001b[38;5;28;01mTrue\u001b[39;00m, combo\n\u001b[0;32m     16\u001b[0m \u001b[38;5;28;01mreturn\u001b[39;00m \u001b[38;5;28;01mFalse\u001b[39;00m, \u001b[38;5;28;01mNone\u001b[39;00m\n",
      "\u001b[1;31mTypeError\u001b[0m: 'int' object is not callable"
     ]
    }
   ],
   "source": [
    "from itertools import combinations\n",
    "\n",
    "def is_prime(n):\n",
    "    if n <= 1:\n",
    "        return False\n",
    "    for i in range(2, int(n**0.5) + 1):\n",
    "        if n % i == 0:\n",
    "            return False\n",
    "    return True\n",
    "\n",
    "def find_prime_sum(N, M):\n",
    "    primes = [p for p in range(2, 10000) if is_prime(p)]\n",
    "    for combo in combinations(primes, M):\n",
    "        if sum(combo) == N:\n",
    "            return True, combo\n",
    "    return False, None\n",
    "\n",
    "\n",
    "\n",
    "if __name__ == '__main__':\n",
    "    try:\n",
    "        N, M = map(int, input(\"Nhập N, M: \").split())\n",
    "        print(N , M)\n",
    "        if not 1 <= N <= 10000 or not 2 <= M <= 100:\n",
    "            raise ValueError(\"Không hợp lệ!\")\n",
    "        is_valid, prime_sum = find_prime_sum(N, M)\n",
    "        if is_valid:\n",
    "            print(f\"{N} = {' + '.join(map(str, prime_sum))}\")\n",
    "        else:\n",
    "            print(f\"{N} không thể được phân tích thành tổng của {M} số nguyên tố khác nhau.\")\n",
    "    except ValueError as e:\n",
    "        print(e)\n",
    "        \n",
    "        \n"
   ]
  },
  {
   "cell_type": "markdown",
   "id": "3da60d2c",
   "metadata": {},
   "source": [
    "# Câu 26"
   ]
  },
  {
   "cell_type": "code",
   "execution_count": 18,
   "id": "39b447e7",
   "metadata": {},
   "outputs": [
    {
     "name": "stdout",
     "output_type": "stream",
     "text": [
      "Không có số nào \n"
     ]
    }
   ],
   "source": [
    "from math import * \n",
    "\n",
    "def is_prime(n):\n",
    "    if n < 2:   \n",
    "        return False\n",
    "    for i in range(2, isqrt(n) + 1):\n",
    "        if n % i == 0:\n",
    "            return False\n",
    "    return True\n",
    "\n",
    "def get_primes_up_to(n):\n",
    "    primes = []\n",
    "    for i in range(2, n):\n",
    "        if is_prime(i):\n",
    "            primes.append(i)\n",
    "    return primes\n",
    "\n",
    "def find_strong_numbers(N):\n",
    "    strong_numbers = []\n",
    "    primes = get_primes_up_to(isqrt(N) + 1)\n",
    "    for i in range(1, N):\n",
    "        for p in primes:\n",
    "            if i % (p * p) == 0:\n",
    "                strong_numbers.append(i)\n",
    "                break\n",
    "    return strong_numbers\n",
    "\n",
    "if __name__ == '__main__':\n",
    "    try:\n",
    "        N = int(input(\"Nhập giá trị N: \"))\n",
    "        if N < 0:\n",
    "            raise ValueError(\"Không hợp lệ!\")\n",
    "        numbers = find_strong_numbers(N)\n",
    "        if not numbers:\n",
    "            print(\"Không có số nào!\")\n",
    "        else: \n",
    "            for i in find_strong_numbers(N):\n",
    "                print(i)\n",
    "    except ValueError as e:\n",
    "        print(e)\n",
    "        "
   ]
  }
 ],
 "metadata": {
  "kernelspec": {
   "display_name": "Python 3 (ipykernel)",
   "language": "python",
   "name": "python3"
  },
  "language_info": {
   "codemirror_mode": {
    "name": "ipython",
    "version": 3
   },
   "file_extension": ".py",
   "mimetype": "text/x-python",
   "name": "python",
   "nbconvert_exporter": "python",
   "pygments_lexer": "ipython3",
   "version": "3.11.9"
  }
 },
 "nbformat": 4,
 "nbformat_minor": 5
}
